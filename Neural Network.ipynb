{
  "nbformat": 4,
  "nbformat_minor": 0,
  "metadata": {
    "colab": {
      "name": "CI_Project1.ipynb",
      "provenance": [],
      "collapsed_sections": []
    },
    "kernelspec": {
      "name": "python3",
      "display_name": "Python 3"
    },
    "language_info": {
      "name": "python"
    }
  },
  "cells": [
    {
      "cell_type": "code",
      "execution_count": 295,
      "metadata": {
        "colab": {
          "base_uri": "https://localhost:8080/"
        },
        "id": "shaFUslXRFoS",
        "outputId": "5da8060f-e100-40fa-fd2e-e8fb13f4a92e"
      },
      "outputs": [
        {
          "output_type": "stream",
          "name": "stdout",
          "text": [
            "/usr/local/lib/python3.7/dist-packages/gdown/cli.py:131: FutureWarning: Option `--id` was deprecated in version 4.3.1 and will be removed in 5.0. You don't need to pass it anymore to use a file ID.\n",
            "  category=FutureWarning,\n",
            "Downloading...\n",
            "From: https://drive.google.com/uc?id=1Y1vgzPvMeVcXSxDfOlCVia7wsU7p8M6g\n",
            "To: /content/CIFAR10.tar.gz\n",
            "100% 19.8M/19.8M [00:00<00:00, 63.2MB/s]\n"
          ]
        }
      ],
      "source": [
        "!gdown --id 1Y1vgzPvMeVcXSxDfOlCVia7wsU7p8M6g -O CIFAR10.tar.gz\n",
        "!tar xzf CIFAR10.tar.gz"
      ]
    },
    {
      "cell_type": "markdown",
      "source": [
        "Imports"
      ],
      "metadata": {
        "id": "Uo8P2qsuq-BQ"
      }
    },
    {
      "cell_type": "code",
      "source": [
        "import matplotlib.pyplot as plt\n",
        "import numpy as np\n",
        "import glob\n",
        "import time"
      ],
      "metadata": {
        "id": "ey8Sy-H7q_uB"
      },
      "execution_count": 328,
      "outputs": []
    },
    {
      "cell_type": "code",
      "source": [
        "test1 = glob.glob(\"/content/CIFAR10/test/airplane/*.jpg\")\n",
        "test2 = glob.glob(\"/content/CIFAR10/test/automobile/*.jpg\")\n",
        "test3 = glob.glob(\"/content/CIFAR10/test/bird/*.jpg\")\n",
        "test4 = glob.glob(\"/content/CIFAR10/test/cat/*.jpg\")\n",
        "\n",
        "train1 = glob.glob(\"/content/CIFAR10/train/airplane/*.jpg\")\n",
        "train2 = glob.glob(\"/content/CIFAR10/train/automobile/*.jpg\")\n",
        "train3 = glob.glob(\"/content/CIFAR10/train/bird/*.jpg\")\n",
        "train4 = glob.glob(\"/content/CIFAR10/train/cat/*.jpg\")\n",
        "\n",
        "# print(test1)"
      ],
      "metadata": {
        "id": "xVDQBpAprKdW"
      },
      "execution_count": 329,
      "outputs": []
    },
    {
      "cell_type": "code",
      "source": [
        "def readImages(images_path):\n",
        "  images = []\n",
        "  for path in images_path:\n",
        "    images.append(np.asarray(plt.imread(path)))\n",
        "  \n",
        "  return images\n",
        "\n",
        "test = np.array(readImages(test1) + readImages(test2) + readImages(test3)  + readImages(test4))\n",
        "train = np.array(readImages(train1) + readImages(train2) + readImages(train3) + readImages(train4))\n",
        "\n",
        "print(test.shape, train.shape)\n",
        "\n",
        "def addLabel(size):\n",
        "  l1 = [[1,0,0,0] for i in range(size//4)]\n",
        "  l2 = [[0,1,0,0] for i in range(size//4)]\n",
        "  l3 = [[0,0,1,0] for i in range(size//4)]\n",
        "  l4 = [[0,0,0,1] for i in range(size//4)]\n",
        "\n",
        "  # print(l1)\n",
        "\n",
        "  return np.array(l1 + l2 + l3 + l4)\n",
        "\n",
        "test_label = addLabel(4000)\n",
        "train_label = addLabel(20000)\n",
        "\n",
        "print(test_label.shape)"
      ],
      "metadata": {
        "colab": {
          "base_uri": "https://localhost:8080/"
        },
        "id": "_8HY6PdoLV-L",
        "outputId": "ebe8c5fa-fbdb-43c9-94de-e34ab75844dc"
      },
      "execution_count": 331,
      "outputs": [
        {
          "output_type": "stream",
          "name": "stdout",
          "text": [
            "(4000, 32, 32, 3) (20000, 32, 32, 3)\n",
            "(4000, 4)\n"
          ]
        }
      ]
    },
    {
      "cell_type": "code",
      "source": [
        "def rgb2gray(rgb):\n",
        "  r, g, b = rgb[:, :, :, 0], rgb[:, :, :,1], rgb[:, :, :, 2]\n",
        "  gray = 0.2989 * r + 0.5870 * g + 0.1140 * b\n",
        "  return gray\n",
        "\n",
        "test = rgb2gray(test)\n",
        "train = rgb2gray(train)\n",
        "\n",
        "print(test.shape, train.shape)"
      ],
      "metadata": {
        "colab": {
          "base_uri": "https://localhost:8080/"
        },
        "id": "Z18IWDP7Ylot",
        "outputId": "abf87722-cb59-4b39-afea-389a3d0aca1f"
      },
      "execution_count": 299,
      "outputs": [
        {
          "output_type": "stream",
          "name": "stdout",
          "text": [
            "(4000, 32, 32) (20000, 32, 32)\n"
          ]
        }
      ]
    },
    {
      "cell_type": "markdown",
      "source": [
        "Normalize and Flat"
      ],
      "metadata": {
        "id": "rqSHgVVYa60R"
      }
    },
    {
      "cell_type": "code",
      "source": [
        "test = test / 255\n",
        "train = train / 255\n",
        "\n",
        "print(test.shape, train.shape)\n",
        "\n",
        "test = test.reshape(-1,1024)\n",
        "train = train.reshape(-1,1024)\n",
        "print(test.shape, train.shape)"
      ],
      "metadata": {
        "colab": {
          "base_uri": "https://localhost:8080/"
        },
        "id": "yFbSBtLqaixf",
        "outputId": "39c89b58-49d1-4bba-821a-691a55d4d439"
      },
      "execution_count": 300,
      "outputs": [
        {
          "output_type": "stream",
          "name": "stdout",
          "text": [
            "(4000, 32, 32) (20000, 32, 32)\n",
            "(4000, 1024) (20000, 1024)\n"
          ]
        }
      ]
    },
    {
      "cell_type": "markdown",
      "source": [
        "Shuffle"
      ],
      "metadata": {
        "id": "oCrsvPvca4LH"
      }
    },
    {
      "cell_type": "code",
      "source": [
        "def shuffleMatrix(a, b): # https://stackoverflow.com/questions/4601373/better-way-to-shuffle-two-numpy-arrays-in-unison\n",
        "  assert len(a) == len(b)\n",
        "  p = np.random.permutation(len(a))\n",
        "  return a[p], b[p]\n",
        "\n",
        "test, test_label = shuffleMatrix(test, test_label)\n",
        "train, train_label = shuffleMatrix(train, train_label)\n",
        "\n",
        "print(test.shape, train.shape)"
      ],
      "metadata": {
        "colab": {
          "base_uri": "https://localhost:8080/"
        },
        "id": "xX5M3hudavuH",
        "outputId": "a0474cab-9c19-4ee5-9e4f-e2e49dac175a"
      },
      "execution_count": 301,
      "outputs": [
        {
          "output_type": "stream",
          "name": "stdout",
          "text": [
            "(4000, 1024) (20000, 1024)\n"
          ]
        }
      ]
    },
    {
      "cell_type": "code",
      "source": [
        "w0 = np.random.normal(size=(16,1024)) # k = 16, n = 1024\n",
        "w1 = np.random.normal(size=(16, 16)) # k = 16, n = 16\n",
        "w2 = np.random.normal(size=(4, 16)) # k = 4, n = 16\n",
        "b0 = np.zeros((16, 1))\n",
        "b1 = np.zeros((16, 1))\n",
        "b2 = np.zeros((4, 1))\n",
        "\n",
        "def sigmoid(a):\n",
        "    return 1 / (1 + np.exp(-a))\n",
        "\n",
        "#return index of max element in array\n",
        "def maxValueIndex(array):\n",
        "  max_value = np.max(array)\n",
        "  index = np.where(array == max_value)\n",
        "  return index[0]\n",
        "\n",
        "#feedForward\n",
        "images_number = 200\n",
        "counter = 0\n",
        "for i in range(images_number):\n",
        "  first_hidden_layyer_output = sigmoid(np.matmul(w0, train[i]) + b0)\n",
        "  second_hidden_layyer_output = sigmoid(np.matmul(w1, first_hidden_layyer_output) + b1)\n",
        "  output = sigmoid(np.matmul(w2, second_hidden_layyer_output) + b2)\n",
        "\n",
        "  if maxValueIndex(output).any() == maxValueIndex(train_label[i]):\n",
        "    counter += 1\n",
        "\n",
        "print('Accuracy: ', counter/images_number)"
      ],
      "metadata": {
        "colab": {
          "base_uri": "https://localhost:8080/"
        },
        "id": "K80nFKQHedr_",
        "outputId": "18b5fdb5-0eb6-4244-cc1e-b29c99e7c9cc"
      },
      "execution_count": 302,
      "outputs": [
        {
          "output_type": "stream",
          "name": "stdout",
          "text": [
            "Accuracy:  0.245\n"
          ]
        }
      ]
    },
    {
      "cell_type": "code",
      "source": [
        "train_set = []\n",
        "test_set = []\n",
        "\n",
        "batch_size = 16\n",
        "learning_rate = 0.3\n",
        "epochs_number = 10\n",
        "\n",
        "#create sets of (Image,Lable)\n",
        "for i in range(4000):\n",
        "  test_set.append((test[i, :].T.reshape(1024, 1), test_label[i, :].T.reshape(4, 1)))\n",
        "\n",
        "for i in range(20000):\n",
        "  train_set.append((train[i, :].T.reshape(1024, 1), train_label[i, :].T.reshape(4, 1)))\n",
        "batches = [train_set[j:j+batch_size] for j in range(0, 200, batch_size)]"
      ],
      "metadata": {
        "id": "UP_BpihJUh98"
      },
      "execution_count": 303,
      "outputs": []
    },
    {
      "cell_type": "code",
      "source": [
        "def sigmoid_deriv(a):\n",
        "    return sigmoid(a) * (1 - sigmoid(a))\n",
        "\n",
        "def deriv(sig_a):\n",
        "  return sig_a * (1 - sig_a)\n",
        "\n",
        "timer = 0\n",
        "costs = []\n",
        "for i in range(epochs_number):\n",
        "    timer = time.time()\n",
        "    # random.shuffle(train_set)\n",
        "    # batches = [train_set[j:j+batch_size] for j in range(0, 200, batch_size)]\n",
        "    for batch in batches:\n",
        "        grad_w0 = np.zeros((16,1024)) # k = 16, n = 1024\n",
        "        grad_w1 = np.zeros((16, 16)) # k = 16, n = 16\n",
        "        grad_w2 = np.zeros((4, 16)) # k = 4, n = 16\n",
        "        grad_b0 = np.zeros((16, 1))\n",
        "        grad_b1 = np.zeros((16, 1))\n",
        "        grad_b2 = np.zeros((4, 1))\n",
        "\n",
        "\n",
        "        for b in batch:\n",
        "            image = b[0]\n",
        "            label = b[1]\n",
        "            b0 = b0.reshape(16,1)\n",
        "            b1 = b1.reshape(16,1)\n",
        "            b2 = b2.reshape(4,1)\n",
        "\n",
        "            z1 = np.matmul(w0, image) + b0\n",
        "            a1 = sigmoid(z1)\n",
        "\n",
        "            z2 = np.matmul(w1, a1) + b1\n",
        "            a2 = sigmoid(z2)\n",
        "\n",
        "            z3 = np.matmul(w2, a2) + b2\n",
        "            a3 = sigmoid(z3)\n",
        "            \n",
        "\n",
        "            #last layer\n",
        "            for j in range(grad_w2.shape[0]):\n",
        "                for k in range(grad_w2.shape[1]):\n",
        "                    grad_w2[j][k] +=  a2[k][0] * deriv(a3[j][0])  * (2 * a3[j][0] - 2 * label[j][0])\n",
        "            \n",
        "        \n",
        "            for j in range(grad_b2.shape[0]):\n",
        "                    grad_b2[j][0] +=  deriv(a3[j][0]) * (2 * a3[j][0] - 2 * label[j][0]) \n",
        "            \n",
        "\n",
        "            # second hidden layer\n",
        "            g2 = np.zeros((16, 1))\n",
        "            for k in range(16):\n",
        "                for j in range(4):\n",
        "                    g2[k][0] += w2[j][k] * deriv(a3[j][0]) * (2 * a3[j][0] - 2 * label[j][0]) \n",
        "            \n",
        "            for j in range(grad_w1.shape[0]):\n",
        "                for k in range(grad_w2.shape[1]):\n",
        "                    grad_w1[j][k] += a1[k][0] * g2[k][0] * deriv(a2[j][0])\n",
        "            \n",
        "            \n",
        "            for k in range(grad_b1.shape[0]):\n",
        "                    grad_b1[k, 0] += g2[k][0] * deriv(a2[k][0])\n",
        "                    \n",
        "            # first hidden layer\n",
        "            g1 = np.zeros((16, 1))\n",
        "            for k in range(16):\n",
        "                for j in range(16):\n",
        "                    g1[k][0] += w1[j][k] * deriv(a2[j][0]) * g2[j][0]\n",
        "            \n",
        "            \n",
        "            for j in range(grad_w0.shape[0]):\n",
        "                for k in range(grad_w0.shape[1]):\n",
        "                    grad_w0[j, k] += image[k][0] * deriv(a1[j][0]) * g1[j][0]\n",
        "\n",
        "            for m in range(grad_b0.shape[0]):\n",
        "                grad_b0[m][0] += g1[m][0] * deriv(a1[j][0])\n",
        "            \n",
        "        w2 = w2 - (learning_rate * (grad_w2 / batch_size))\n",
        "        w1 = w1 - (learning_rate * (grad_w1 / batch_size))\n",
        "        w0 = w0 - (learning_rate * (grad_w0 / batch_size))\n",
        "        \n",
        "        b2 = b2 - (learning_rate * (grad_b2 / batch_size))\n",
        "        b1 = b1 - (learning_rate * (grad_b1 / batch_size))\n",
        "        b0 = b0 - (learning_rate * (grad_b0 / batch_size))\n",
        "\n",
        "    # print('XXXX')\n",
        "    cost = 0\n",
        "    correct_guess = 0\n",
        "    for data in train_set[:images_number]:\n",
        "        image = data[0]\n",
        "        label = data[1]\n",
        "        a1 = sigmoid(np.matmul(w0, image) + b0)\n",
        "        a2 = sigmoid(np.matmul(w1, a1) + b1)\n",
        "        a3 = sigmoid(np.matmul(w2, a2) + b2)\n",
        "\n",
        "        for j in range(4):\n",
        "              cost = cost + ((a3[j, 0] - label[j,  0]) ** 2)\n",
        "              \n",
        "    costs.append(cost / images_number)  \n",
        "stop = time.time()\n",
        "            \n",
        "            "
      ],
      "metadata": {
        "id": "o5W7sIWKmsym"
      },
      "execution_count": 304,
      "outputs": []
    },
    {
      "cell_type": "code",
      "source": [
        "\n",
        "epoch_size = [x for x in range(epochs_number)]\n",
        "print(len(costs))\n",
        "plt.plot(epoch_size, costs)\n",
        "\n",
        "for train_data in train_set[:images_number]:\n",
        "    image = train_data[0]\n",
        "    lable = train_data[1]\n",
        "    a1 = sigmoid(w0 @ image + b0)\n",
        "    a2 = sigmoid(w1 @ a1 + b1)\n",
        "    a3 = sigmoid(w2 @ a2 + b2)\n",
        "    \n",
        "    \n",
        "    if maxValueIndex(a3) == maxValueIndex(lable):\n",
        "        correct_guess += 1\n",
        "print(\"Running Time Is: \", stop - timer)\n",
        "print(\"Accuracy:\" ,correct_guess / 200)   "
      ],
      "metadata": {
        "colab": {
          "base_uri": "https://localhost:8080/",
          "height": 316
        },
        "id": "hEsmm1OBzChu",
        "outputId": "1003479e-852e-4fc7-9545-9ce58cd2d4d8"
      },
      "execution_count": 305,
      "outputs": [
        {
          "output_type": "stream",
          "name": "stdout",
          "text": [
            "10\n",
            "Running Time Is:  12.20392370223999\n",
            "Accuracy: 0.32\n"
          ]
        },
        {
          "output_type": "display_data",
          "data": {
            "text/plain": [
              "<Figure size 432x288 with 1 Axes>"
            ],
            "image/png": "[encoded data removed]"
          },
          "metadata": {
            "needs_background": "light"
          }
        }
      ]
    },
    {
      "cell_type": "markdown",
      "source": [
        "Vectorization"
      ],
      "metadata": {
        "id": "29RjC0mR3j3-"
      }
    },
    {
      "cell_type": "code",
      "source": [
        "w0 = np.random.normal(size=(16,1024)) # k = 16, n = 1024\n",
        "w1 = np.random.normal(size=(16, 16)) # k = 16, n = 16\n",
        "w2 = np.random.normal(size=(4, 16)) # k = 4, n = 16\n",
        "b0 = np.zeros((16, 1))\n",
        "b1 = np.zeros((16, 1))\n",
        "b2 = np.zeros((4, 1))\n",
        "\n",
        "costs = []\n",
        "def sigmoid_deriv(a):\n",
        "    return sigmoid(a) * (1 - sigmoid(a))\n",
        "\n",
        "def deriv(sig_a):\n",
        "  return sig_a * (1 - sig_a)\n",
        "\n",
        "timer = 0\n",
        "epochs_number = 20\n",
        "# all_costs = []\n",
        "# all_guesses = []\n",
        "# for n in range(10):\n",
        "costs = []\n",
        "for i in range(epochs_number):\n",
        "    timer = time.time()\n",
        "    np.random.shuffle(train_set)\n",
        "    batches = [train_set[j:j+batch_size] for j in range(0, 200, batch_size)]\n",
        "    for batch in batches:\n",
        "        grad_w0 = np.zeros((16,1024)) # k = 16, n = 1024\n",
        "        grad_w1 = np.zeros((16, 16)) # k = 16, n = 16\n",
        "        grad_w2 = np.zeros((4, 16)) # k = 4, n = 16\n",
        "        grad_b0 = np.zeros((16, 1))\n",
        "        grad_b1 = np.zeros((16, 1))\n",
        "        grad_b2 = np.zeros((4, 1))\n",
        "\n",
        "\n",
        "        for b in batch:\n",
        "            image = b[0]\n",
        "            label = b[1]\n",
        "            b0 = b0.reshape(16,1)\n",
        "            b1 = b1.reshape(16,1)\n",
        "            b2 = b2.reshape(4,1)\n",
        "\n",
        "            z1 = np.matmul(w0, image) + b0\n",
        "            a1 = sigmoid(z1)\n",
        "\n",
        "            z2 = np.matmul(w1, a1) + b1\n",
        "            a2 = sigmoid(z2)\n",
        "\n",
        "            z3 = np.matmul(w2, a2) + b2\n",
        "            a3 = sigmoid(z3)\n",
        "            # print(a3.shape)\n",
        "\n",
        "            #last layer\n",
        "            grad_w2 +=  deriv(a3)  * (2 * a3 - 2 * label) @ np.transpose(a2)\n",
        "            \n",
        "            grad_b2 +=  deriv(a3) * 2 * (a3 - label) \n",
        "            \n",
        "\n",
        "            # second hidden layer\n",
        "            g2 = np.zeros((16, 1))\n",
        "            g2 += np.transpose(w2) @ ((2 * (a3 - label)) * deriv(a3))\n",
        "\n",
        "            grad_w1 += np.transpose(a1) @ g2 * deriv(a2)\n",
        "\n",
        "            grad_b1 += g2 * deriv(a2)\n",
        "                    \n",
        "            # first hidden layer\n",
        "            g1 = np.zeros((16, 1))\n",
        "            g1 += np.transpose(w1) @ deriv(a2) * g2\n",
        "\n",
        "            grad_w0 += (deriv(a1) * g1) @ np.transpose(image)\n",
        "\n",
        "            grad_b0 += g1 * deriv(a1)\n",
        "            \n",
        "        w2 = w2 - (learning_rate * (grad_w2 / batch_size))\n",
        "        w1 = w1 - (learning_rate * (grad_w1 / batch_size))\n",
        "        w0 = w0 - (learning_rate * (grad_w0 / batch_size))\n",
        "        \n",
        "        b2 = b2 - (learning_rate * (grad_b2 / batch_size))\n",
        "        b1 = b1 - (learning_rate * (grad_b1 / batch_size))\n",
        "        b0 = b0 - (learning_rate * (grad_b0 / batch_size))\n",
        "\n",
        "    # print('XXXX')\n",
        "    cost = 0\n",
        "    correct_guess = 0\n",
        "    for data in train_set[:images_number]:\n",
        "        image = data[0]\n",
        "        label = data[1]\n",
        "        a1 = sigmoid(np.matmul(w0, image) + b0)\n",
        "        a2 = sigmoid(np.matmul(w1, a1) + b1)\n",
        "        a3 = sigmoid(np.matmul(w2, a2) + b2)\n",
        "\n",
        "        for j in range(4):\n",
        "              cost = cost + ((a3[j, 0] - label[j,  0]) ** 2)\n",
        "\n",
        "        if maxValueIndex(a3) == maxValueIndex(lable):\n",
        "            correct_guess += 1\n",
        "    costs.append(cost / images_number)  \n",
        "stop = time.time()\n",
        "\n",
        "    # all_costs.append(costs)\n",
        "    # all_guesses.append(correct_guess)\n",
        "  "
      ],
      "metadata": {
        "id": "e54MhKRw3iTZ"
      },
      "execution_count": 323,
      "outputs": []
    },
    {
      "cell_type": "code",
      "source": [
        "# final_costs = []\n",
        "# final_guess = 0\n",
        "# for j in range(epochs_number):\n",
        "#     x = 0\n",
        "#     for i in range(10):\n",
        "#       x += all_costs[i][j] / 10\n",
        "#     final_costs.append(x)\n",
        "# m = []\n",
        "# for i in range(10):\n",
        "#     final_guess += all_guesses[i]\n",
        "#     m += all_costs[i]\n",
        "# final_guess /= 10\n",
        "\n",
        "# print(final_costs)\n",
        "# print(final_guess)\n",
        "# print(all_costs)"
      ],
      "metadata": {
        "id": "x4Evqtm_FPXm"
      },
      "execution_count": 311,
      "outputs": []
    },
    {
      "cell_type": "code",
      "source": [
        "epoch_size = [x for x in range(epochs_number)]\n",
        "print(len(costs))\n",
        "plt.plot(epoch_size, costs)\n",
        "    \n",
        "print(\"Running Time Is: \", stop - timer)\n",
        "print(\"Accuracy:\" ,correct_guess / images_number)  "
      ],
      "metadata": {
        "colab": {
          "base_uri": "https://localhost:8080/",
          "height": 316
        },
        "id": "4fglA2FN8g7f",
        "outputId": "c7772825-8f7c-46b5-90e6-da1b43ee0b73"
      },
      "execution_count": 324,
      "outputs": [
        {
          "output_type": "stream",
          "name": "stdout",
          "text": [
            "20\n",
            "Running Time Is:  0.08242535591125488\n",
            "Accuracy: 0.265\n"
          ]
        },
        {
          "output_type": "display_data",
          "data": {
            "text/plain": [
              "<Figure size 432x288 with 1 Axes>"
            ],
            "image/png": "[encoded data removed]"
          },
          "metadata": {
            "needs_background": "light"
          }
        }
      ]
    },
    {
      "cell_type": "markdown",
      "source": [
        "Testing - Train Set"
      ],
      "metadata": {
        "id": "NoU9XV4GJLAU"
      }
    },
    {
      "cell_type": "code",
      "source": [
        "w0 = np.random.normal(size=(16,1024)) # k = 16, n = 1024\n",
        "w1 = np.random.normal(size=(16, 16)) # k = 16, n = 16\n",
        "w2 = np.random.normal(size=(4, 16)) # k = 4, n = 16\n",
        "b0 = np.zeros((16, 1))\n",
        "b1 = np.zeros((16, 1))\n",
        "b2 = np.zeros((4, 1))\n",
        "\n",
        "costs = []\n",
        "def sigmoid_deriv(a):\n",
        "    return sigmoid(a) * (1 - sigmoid(a))\n",
        "\n",
        "def deriv(sig_a):\n",
        "  return sig_a * (1 - sig_a)\n",
        "\n",
        "timer = 0\n",
        "epochs_number = 40\n",
        "# all_costs = []\n",
        "# all_guesses = []\n",
        "# for n in range(10):\n",
        "costs = []\n",
        "for i in range(epochs_number):\n",
        "    timer = time.time()\n",
        "    np.random.shuffle(train_set)\n",
        "    batches = [train_set[j:j+batch_size] for j in range(0, len(train_set), batch_size)]\n",
        "    for batch in batches:\n",
        "        grad_w0 = np.zeros((16,1024)) # k = 16, n = 1024\n",
        "        grad_w1 = np.zeros((16, 16)) # k = 16, n = 16\n",
        "        grad_w2 = np.zeros((4, 16)) # k = 4, n = 16\n",
        "        grad_b0 = np.zeros((16, 1))\n",
        "        grad_b1 = np.zeros((16, 1))\n",
        "        grad_b2 = np.zeros((4, 1))\n",
        "\n",
        "\n",
        "        for b in batch:\n",
        "            image = b[0]\n",
        "            label = b[1]\n",
        "            b0 = b0.reshape(16,1)\n",
        "            b1 = b1.reshape(16,1)\n",
        "            b2 = b2.reshape(4,1)\n",
        "\n",
        "            z1 = np.matmul(w0, image) + b0\n",
        "            a1 = sigmoid(z1)\n",
        "\n",
        "            z2 = np.matmul(w1, a1) + b1\n",
        "            a2 = sigmoid(z2)\n",
        "\n",
        "            z3 = np.matmul(w2, a2) + b2\n",
        "            a3 = sigmoid(z3)\n",
        "            # print(a3.shape)\n",
        "\n",
        "            #last layer\n",
        "            grad_w2 +=  deriv(a3)  * (2 * a3 - 2 * label) @ np.transpose(a2)\n",
        "            \n",
        "            grad_b2 +=  deriv(a3) * 2 * (a3 - label) \n",
        "            \n",
        "\n",
        "            # second hidden layer\n",
        "            g2 = np.zeros((16, 1))\n",
        "            g2 += np.transpose(w2) @ ((2 * (a3 - label)) * deriv(a3))\n",
        "\n",
        "            grad_w1 += np.transpose(a1) @ g2 * deriv(a2)\n",
        "\n",
        "            grad_b1 += g2 * deriv(a2)\n",
        "                    \n",
        "            # first hidden layer\n",
        "            g1 = np.zeros((16, 1))\n",
        "            g1 += np.transpose(w1) @ deriv(a2) * g2\n",
        "\n",
        "            grad_w0 += (deriv(a1) * g1) @ np.transpose(image)\n",
        "\n",
        "            grad_b0 += g1 * deriv(a1)\n",
        "            \n",
        "        w2 = w2 - (learning_rate * (grad_w2 / batch_size))\n",
        "        w1 = w1 - (learning_rate * (grad_w1 / batch_size))\n",
        "        w0 = w0 - (learning_rate * (grad_w0 / batch_size))\n",
        "        \n",
        "        b2 = b2 - (learning_rate * (grad_b2 / batch_size))\n",
        "        b1 = b1 - (learning_rate * (grad_b1 / batch_size))\n",
        "        b0 = b0 - (learning_rate * (grad_b0 / batch_size))\n",
        "\n",
        "    # print('XXXX')\n",
        "    cost = 0\n",
        "    correct_guess = 0\n",
        "    for data in train_set:\n",
        "        image = data[0]\n",
        "        label = data[1]\n",
        "        a1 = sigmoid(np.matmul(w0, image) + b0)\n",
        "        a2 = sigmoid(np.matmul(w1, a1) + b1)\n",
        "        a3 = sigmoid(np.matmul(w2, a2) + b2)\n",
        "\n",
        "        for j in range(4):\n",
        "              cost = cost + ((a3[j, 0] - label[j,  0]) ** 2)\n",
        "\n",
        "        if maxValueIndex(a3) == maxValueIndex(lable):\n",
        "            correct_guess += 1\n",
        "    costs.append(cost / images_number)  \n",
        "stop = time.time()\n",
        "\n",
        "    # all_costs.append(costs)\n",
        "    # all_guesses.append(correct_guess)\n",
        "  "
      ],
      "metadata": {
        "id": "Ze4NH7C9JKZ9"
      },
      "execution_count": 313,
      "outputs": []
    },
    {
      "cell_type": "code",
      "source": [
        "epoch_size = [x for x in range(epochs_number)]\n",
        "plt.plot(epoch_size, costs)\n",
        "    \n",
        "print(\"Running Time Is: \", stop - timer)\n",
        "print(\"Accuracy:\" ,correct_guess / images_number)  "
      ],
      "metadata": {
        "colab": {
          "base_uri": "https://localhost:8080/",
          "height": 299
        },
        "id": "5afO0rmjJWb2",
        "outputId": "5680ea0c-d10d-4fbc-b2a3-4756b9ed71ed"
      },
      "execution_count": 314,
      "outputs": [
        {
          "output_type": "stream",
          "name": "stdout",
          "text": [
            "Running Time Is:  7.179632902145386\n",
            "Accuracy: 99.995\n"
          ]
        },
        {
          "output_type": "display_data",
          "data": {
            "text/plain": [
              "<Figure size 432x288 with 1 Axes>"
            ],
            "image/png": "[encoded data removed]"
          },
          "metadata": {
            "needs_background": "light"
          }
        }
      ]
    },
    {
      "cell_type": "markdown",
      "source": [
        ""
      ],
      "metadata": {
        "id": "RiZEywOpMhyM"
      }
    },
    {
      "cell_type": "code",
      "source": [
        ""
      ],
      "metadata": {
        "id": "5SZa6eyMMoLc"
      },
      "execution_count": 314,
      "outputs": []
    }
  ]
}